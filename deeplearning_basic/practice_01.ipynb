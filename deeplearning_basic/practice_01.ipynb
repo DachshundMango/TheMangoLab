{
 "cells": [
  {
   "cell_type": "code",
   "execution_count": 40,
   "metadata": {},
   "outputs": [],
   "source": [
    "import torch\n",
    "import torch.nn as nn"
   ]
  },
  {
   "cell_type": "code",
   "execution_count": 41,
   "metadata": {},
   "outputs": [],
   "source": [
    "x = torch.FloatTensor(4) # input\n",
    "W = torch.FloatTensor(4, 3) # weight\n",
    "b = torch.FloatTensor(3) # bias  \n",
    "\n",
    "def linearfunction(x, W, b):\n",
    "    y = torch.matmul(W, x) + b\n",
    "    return y"
   ]
  },
  {
   "cell_type": "code",
   "execution_count": 42,
   "metadata": {},
   "outputs": [],
   "source": [
    "class NeuralNetwork(nn.Module):\n",
    "    def __init__(self):\n",
    "        super().__init__()\n",
    "        self.W = torch.FloatTensor(4, 3) # weight\n",
    "        self.b = torch.FloatTensor(3) # bias\n",
    "\n",
    "    def forward(self, x): # calculation of the output\n",
    "        #|x| = (input_dim)\n",
    "        #|y| = (input_dim) * (input_dim, output_dim) + (output_dim)\n",
    "        #    = (output_dim)\n",
    "        y = torch.matmul(x, self.W) + self.b\n",
    "        return y"
   ]
  },
  {
   "cell_type": "code",
   "execution_count": 43,
   "metadata": {},
   "outputs": [
    {
     "name": "stdout",
     "output_type": "stream",
     "text": [
      "tensor([0., 0., 0.]) torch.Size([3])\n"
     ]
    }
   ],
   "source": [
    "x = torch.FloatTensor(4) # input\n",
    "mylinear = NeuralNetwork()\n",
    "y = mylinear(x) # mylinear.forward(x)와 동일\n",
    "print(y, y.size())"
   ]
  },
  {
   "cell_type": "code",
   "execution_count": 44,
   "metadata": {},
   "outputs": [],
   "source": [
    "class NeuralNetwork(nn.Module):\n",
    "    def __init__(self, input_dim, output_dim):\n",
    "        super().__init__()\n",
    "        self.W = torch.FloatTensor(input_dim, output_dim)\n",
    "        self.b = torch.FloatTensor(output_dim)\n",
    "        \n",
    "\n",
    "    def forward(self, x):\n",
    "        #|x| = (input_dim)\n",
    "        #|y| = (input_dim) * (input_dim, output_dim) + (output_dim)\n",
    "        #    = (output_dim)\n",
    "        y = torch.matmul(x, self.W) + self.b\n",
    "        return y"
   ]
  },
  {
   "cell_type": "code",
   "execution_count": 45,
   "metadata": {},
   "outputs": [
    {
     "name": "stdout",
     "output_type": "stream",
     "text": [
      "tensor([0., 0., 0.]) torch.Size([3])\n"
     ]
    }
   ],
   "source": [
    "x = torch.FloatTensor(5) # input\n",
    "mylinear = NeuralNetwork(5, 3)\n",
    "y = mylinear(x) # mylinear.forward(x)와 동일\n",
    "print(y, y.size()) "
   ]
  },
  {
   "cell_type": "code",
   "execution_count": 46,
   "metadata": {},
   "outputs": [],
   "source": [
    "class NeuralNetwork(nn.Module):\n",
    "    def __init__(self, input_dim, output_dim):\n",
    "        super().__init__()\n",
    "        self.W = nn.Parameter(torch.FloatTensor(input_dim, output_dim)) # nn.Parameter를 사용하면 학습 가능한 parameter로 등록\n",
    "        self.b = nn.Parameter(torch.FloatTensor(output_dim)) # nn.Parameter를 사용하면 학습 가능한 parameter로 등록\n",
    "        \n",
    "    def forward(self, x):\n",
    "        #|x| = (input_dim)\n",
    "        #|y| = (input_dim) * (input_dim, output_dim) + (output_dim)\n",
    "        #    = (output_dim)\n",
    "        y = torch.matmul(x, self.W) + self.b\n",
    "        return y\n",
    "    "
   ]
  },
  {
   "cell_type": "code",
   "execution_count": 47,
   "metadata": {},
   "outputs": [
    {
     "name": "stdout",
     "output_type": "stream",
     "text": [
      "tensor([0., 0., 0.], grad_fn=<AddBackward0>) torch.Size([3])\n",
      "Parameter containing:\n",
      "tensor([[0., 0., 0.],\n",
      "        [0., 0., 0.],\n",
      "        [0., 0., 0.],\n",
      "        [0., 0., 0.]], requires_grad=True)\n",
      "Parameter containing:\n",
      "tensor([0., 0., 0.], requires_grad=True)\n"
     ]
    }
   ],
   "source": [
    "x = torch.FloatTensor(4) # input\n",
    "mylinear = NeuralNetwork(4, 3)\n",
    "y = mylinear(x) # mylinear.forward(x)와 동일\n",
    "print(y, y.size())\n",
    "for param in mylinear.parameters():\n",
    "    print(param) # requries_grad=True 에 따라 paremeter를 업데이트 할지 말지 결정\n",
    "                # vaildation set이나 test set에서는 requires_grad=False로 설정 (말그대로 테스트를 위한 것이기 때문에 업데이트 하지 않는다)"
   ]
  },
  {
   "cell_type": "code",
   "execution_count": 48,
   "metadata": {},
   "outputs": [
    {
     "name": "stdout",
     "output_type": "stream",
     "text": [
      "tensor([-0.1558, -0.1228, -0.3506], grad_fn=<ViewBackward0>) torch.Size([3])\n",
      "Parameter containing:\n",
      "tensor([[-0.1992,  0.0773, -0.3740, -0.0443],\n",
      "        [-0.4586, -0.2748,  0.3761, -0.4215],\n",
      "        [ 0.2162,  0.4703, -0.1746, -0.3870]], requires_grad=True)\n",
      "Parameter containing:\n",
      "tensor([-0.1558, -0.1228, -0.3506], requires_grad=True)\n"
     ]
    }
   ],
   "source": [
    "mylinear = nn.Linear(4, 3) # nn.Linear는 위에서 정의한 NeuralNetwork과 동일한 기능을 한다\n",
    "y = mylinear(x)\n",
    "print(y, y.size())\n",
    "\n",
    "for param in mylinear.parameters():\n",
    "    print(param) # nn.Linear는 내부적으로 nn.Parameter를 사용하기 때문에 parameter를 업데이트 할 수 있다\n",
    "                # requires_grad=True로 학습 가능한 parameter로 등록되어 있다"
   ]
  },
  {
   "cell_type": "code",
   "execution_count": null,
   "metadata": {},
   "outputs": [],
   "source": [
    "# 하나의 모듈에 여거 모듈을 포함시킬 수 있다\n",
    "\n",
    "class NeuralNetwork(nn.Module):\n",
    "  \n",
    "    def __init__(self, input_dim, output_dim):\n",
    "        super().__init__()\n",
    "        self.linear = nn.Linear(input_dim, output_dim)\n",
    "\n",
    "    def forward(self, x):\n",
    "        #|x| = (input_dim)\n",
    "        #|y| = (input_dim) * (input_dim, output_dim) + (output_dim)\n",
    "        #    = (output_dim)\n",
    "        y= self.linear(x)\n",
    "        return y\n"
   ]
  }
 ],
 "metadata": {
  "kernelspec": {
   "display_name": "base",
   "language": "python",
   "name": "python3"
  },
  "language_info": {
   "codemirror_mode": {
    "name": "ipython",
    "version": 3
   },
   "file_extension": ".py",
   "mimetype": "text/x-python",
   "name": "python",
   "nbconvert_exporter": "python",
   "pygments_lexer": "ipython3",
   "version": "3.12.4"
  }
 },
 "nbformat": 4,
 "nbformat_minor": 2
}
