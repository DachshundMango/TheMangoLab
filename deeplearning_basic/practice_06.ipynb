{
 "cells": [
  {
   "cell_type": "code",
   "execution_count": 12,
   "metadata": {},
   "outputs": [],
   "source": [
    "import torch\n",
    "import torch.nn as nn\n",
    "\n",
    "class LinearRegressionModel(nn.Module):\n",
    "    def __init__(self, input_dim, output_dim):\n",
    "        super().__init__()\n",
    "        self.linear = nn.Linear(in_features=input_dim, out_features=output_dim)\n",
    "        #self.activation = nn.Sigmoid() # 시그모이드 함수를 활성화 함수로 사용\n",
    "        #self.activation = nn.ReLU() # ReLU 함수를 활성화 함수로 사용\n",
    "        self.activation = nn.LeakyReLU() # LeakyReLU 함수를 활성화 함수로 사용\n",
    "\n",
    "    def forward(self, x):\n",
    "        return self.activation(self.linear(x))"
   ]
  },
  {
   "cell_type": "code",
   "execution_count": 13,
   "metadata": {},
   "outputs": [],
   "source": [
    "x = torch.ones(4)\n",
    "y = torch.zeros(3)\n",
    "model = LinearRegressionModel(4, 3)\n",
    "loss_function = nn.MSELoss()"
   ]
  },
  {
   "cell_type": "code",
   "execution_count": 14,
   "metadata": {},
   "outputs": [
    {
     "name": "stdout",
     "output_type": "stream",
     "text": [
      "tensor(1.1959e-06, grad_fn=<MseLossBackward0>)\n",
      "tensor([[-0.3175, -0.0150, -0.3530,  0.1770],\n",
      "        [-0.0225, -0.0394, -0.3440,  0.0489],\n",
      "        [-0.3264, -0.0011, -0.4726,  0.3550]])\n",
      "tensor([0.4934, 0.1681, 0.4452])\n"
     ]
    }
   ],
   "source": [
    "learning_rate = 0.01\n",
    "nb_epochs = 10000\n",
    "optimizer = torch.optim.SGD(model.parameters(), lr=learning_rate) # 확률적 경사하강법\n",
    "\n",
    "for epoch in range(nb_epochs):\n",
    "    \n",
    "    y_pred = model(x)\n",
    "    loss = loss_function(y_pred, y)\n",
    "\n",
    "    optimizer.zero_grad()\n",
    "    loss.backward()\n",
    "    optimizer.step()\n",
    "\n",
    "print(loss)\n",
    "for param in model.parameters():\n",
    "    print(param.data)"
   ]
  }
 ],
 "metadata": {
  "kernelspec": {
   "display_name": "base",
   "language": "python",
   "name": "python3"
  },
  "language_info": {
   "codemirror_mode": {
    "name": "ipython",
    "version": 3
   },
   "file_extension": ".py",
   "mimetype": "text/x-python",
   "name": "python",
   "nbconvert_exporter": "python",
   "pygments_lexer": "ipython3",
   "version": "3.12.4"
  }
 },
 "nbformat": 4,
 "nbformat_minor": 2
}
