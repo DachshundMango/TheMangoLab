{
 "cells": [
  {
   "cell_type": "code",
   "execution_count": 3,
   "metadata": {},
   "outputs": [
    {
     "name": "stdout",
     "output_type": "stream",
     "text": [
      "tensor(2.)\n",
      "tensor(4.)\n",
      "tensor(6.)\n"
     ]
    }
   ],
   "source": [
    "import torch\n",
    "import torch.nn.functional as F\n",
    "\n",
    "w = torch.tensor(4.0, requires_grad=True)\n",
    "z = 2 * w\n",
    "z.backward() # 미분값을 grad 속성에 저장\n",
    "print(w.grad)\n",
    "\n",
    "z = 2 * w\n",
    "z.backward()\n",
    "print(w.grad)\n",
    "\n",
    "z = 2 * w\n",
    "z.backward()\n",
    "print(w.grad)\n"
   ]
  },
  {
   "cell_type": "code",
   "execution_count": 4,
   "metadata": {},
   "outputs": [
    {
     "name": "stdout",
     "output_type": "stream",
     "text": [
      "0 300 tensor([[0.3256, 0.7494, 0.2998],\n",
      "        [0.8485, 0.8278, 0.8588],\n",
      "        [0.6929, 0.8911, 0.9529],\n",
      "        [0.3927, 0.4684, 0.1419]], requires_grad=True) tensor([0.6214, 0.9436, 0.7701], requires_grad=True) tensor(11.5927, grad_fn=<MseLossBackward0>)\n",
      "100 300 tensor([[-0.2312, -0.0005, -0.2845],\n",
      "        [ 0.2917,  0.0779,  0.2745],\n",
      "        [ 0.1361,  0.1412,  0.3685],\n",
      "        [-0.1641, -0.2815, -0.4424]], requires_grad=True) tensor([0.0646, 0.1937, 0.1858], requires_grad=True) tensor(0.0132, grad_fn=<MseLossBackward0>)\n",
      "200 300 tensor([[-0.2499, -0.0258, -0.3042],\n",
      "        [ 0.2729,  0.0526,  0.2548],\n",
      "        [ 0.1173,  0.1159,  0.3489],\n",
      "        [-0.1829, -0.3068, -0.4621]], requires_grad=True) tensor([0.0459, 0.1684, 0.1661], requires_grad=True) tensor(1.4958e-05, grad_fn=<MseLossBackward0>)\n",
      "300 300 tensor([[-0.2506, -0.0266, -0.3049],\n",
      "        [ 0.2723,  0.0518,  0.2542],\n",
      "        [ 0.1167,  0.1151,  0.3482],\n",
      "        [-0.1835, -0.3077, -0.4627]], requires_grad=True) tensor([0.0452, 0.1676, 0.1654], requires_grad=True) tensor(1.6980e-08, grad_fn=<MseLossBackward0>)\n"
     ]
    }
   ],
   "source": [
    "x = torch.ones(4) # input tensor\n",
    "y = torch.zeros(3) # expected output\n",
    "W = torch.rand(4, 3, requires_grad=True) # weight matrix\n",
    "b = torch.rand(3, requires_grad=True) # bias vector\n",
    "\n",
    "learning_rate = 0.01\n",
    "optimizer = torch.optim.SGD([W, b], lr=learning_rate)\n",
    "\n",
    "nb_epochs = 300 # 원하는 만큼 경사하강법을 반복\n",
    "\n",
    "for epoch in range(nb_epochs + 1):\n",
    "\n",
    "    z = torch.matmul(x, W) + b\n",
    "    loss = F.mse_loss(z, y)\n",
    "\n",
    "    optimizer.zero_grad()\n",
    "    loss.backward()\n",
    "    optimizer.step()\n",
    "    \n",
    "    #100번마다 로그 출력\n",
    "    if epoch % 100 == 0:\n",
    "        print(epoch, nb_epochs, W, b, loss)   "
   ]
  }
 ],
 "metadata": {
  "kernelspec": {
   "display_name": "base",
   "language": "python",
   "name": "python3"
  },
  "language_info": {
   "codemirror_mode": {
    "name": "ipython",
    "version": 3
   },
   "file_extension": ".py",
   "mimetype": "text/x-python",
   "name": "python",
   "nbconvert_exporter": "python",
   "pygments_lexer": "ipython3",
   "version": "3.12.4"
  }
 },
 "nbformat": 4,
 "nbformat_minor": 2
}
