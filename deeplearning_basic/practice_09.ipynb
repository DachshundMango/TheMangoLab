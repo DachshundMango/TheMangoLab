{
 "cells": [
  {
   "cell_type": "code",
   "execution_count": 2,
   "metadata": {},
   "outputs": [
    {
     "name": "stdout",
     "output_type": "stream",
     "text": [
      "tensor([[ 0.2051, -0.8416,  0.5813,  0.3569],\n",
      "        [-1.9076,  0.5036,  0.4022, -0.7124],\n",
      "        [ 0.1171,  0.3482, -1.6894, -0.4675]])\n",
      "tensor([1, 2])\n",
      "tensor([[-1.9076,  0.5036,  0.4022, -0.7124],\n",
      "        [ 0.1171,  0.3482, -1.6894, -0.4675]])\n",
      "tensor([[-0.8416,  0.5813],\n",
      "        [ 0.5036,  0.4022],\n",
      "        [ 0.3482, -1.6894]])\n"
     ]
    }
   ],
   "source": [
    "import torch\n",
    "import torch.nn as nn\n",
    "import torch.nn.functional as F\n",
    "\n",
    "data1 = torch.randn(3,4)\n",
    "print(data1)\n",
    "indices = torch.tensor([1,2]) # 1,2번째 행,열을 가져옴\n",
    "print(indices)\n",
    "print(torch.index_select(data1, 0, indices)) # 0 축을 기준으로 1,2번째 행을 가져옴\n",
    "print(torch.index_select(data1, 1, indices)) # 1 축을 기준으로 1,2번째 열을 가져옴\n"
   ]
  },
  {
   "cell_type": "code",
   "execution_count": null,
   "metadata": {},
   "outputs": [],
   "source": [
    "x = torch.ones(5000,10)\n"
   ]
  }
 ],
 "metadata": {
  "kernelspec": {
   "display_name": "base",
   "language": "python",
   "name": "python3"
  },
  "language_info": {
   "codemirror_mode": {
    "name": "ipython",
    "version": 3
   },
   "file_extension": ".py",
   "mimetype": "text/x-python",
   "name": "python",
   "nbconvert_exporter": "python",
   "pygments_lexer": "ipython3",
   "version": "3.12.4"
  }
 },
 "nbformat": 4,
 "nbformat_minor": 2
}
